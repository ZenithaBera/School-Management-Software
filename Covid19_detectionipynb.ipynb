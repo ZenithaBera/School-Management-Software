{
  "nbformat": 4,
  "nbformat_minor": 0,
  "metadata": {
    "colab": {
      "provenance": [],
      "authorship_tag": "ABX9TyOJwhusBggQMQanAGIVIPb0",
      "include_colab_link": true
    },
    "kernelspec": {
      "name": "python3",
      "display_name": "Python 3"
    },
    "language_info": {
      "name": "python"
    }
  },
  "cells": [
    {
      "cell_type": "markdown",
      "metadata": {
        "id": "view-in-github",
        "colab_type": "text"
      },
      "source": [
        "<a href=\"https://colab.research.google.com/github/ZenithaBera/School-Management-Software/blob/master/Covid19_detectionipynb.ipynb\" target=\"_parent\"><img src=\"https://colab.research.google.com/assets/colab-badge.svg\" alt=\"Open In Colab\"/></a>"
      ]
    },
    {
      "cell_type": "code",
      "execution_count": 28,
      "metadata": {
        "colab": {
          "base_uri": "https://localhost:8080/"
        },
        "id": "Pd8mgBT14tfX",
        "outputId": "3b4ceea4-e77b-4563-c065-ce94873fd317"
      },
      "outputs": [
        {
          "output_type": "stream",
          "name": "stdout",
          "text": [
            "Found 251 images belonging to 3 classes.\n",
            "Found 66 images belonging to 3 classes.\n",
            "Epoch 1/5\n",
            "40/40 [==============================] - 13s 301ms/step - loss: -0.2889 - accuracy: 0.3500 - val_loss: -3.2518 - val_accuracy: 0.6562\n",
            "Epoch 2/5\n",
            "40/40 [==============================] - 12s 292ms/step - loss: -34.0536 - accuracy: 0.4340 - val_loss: -183.1548 - val_accuracy: 0.5938\n",
            "Epoch 3/5\n",
            "40/40 [==============================] - 12s 301ms/step - loss: -261.2774 - accuracy: 0.4812 - val_loss: -581.4819 - val_accuracy: 0.6875\n",
            "Epoch 4/5\n",
            "40/40 [==============================] - 11s 278ms/step - loss: -2023.4363 - accuracy: 0.4375 - val_loss: -4450.1445 - val_accuracy: 0.5625\n",
            "Epoch 5/5\n",
            "40/40 [==============================] - 13s 325ms/step - loss: -9200.7490 - accuracy: 0.3270 - val_loss: -14855.0781 - val_accuracy: 0.5938\n",
            "1/1 [==============================] - 0s 80ms/step\n",
            "COVID\n"
          ]
        }
      ],
      "source": [
        "#!/usr/bin/env python3\n",
        "# -*- coding: utf-8 -*-\n",
        "\"\"\"\n",
        "Created on Sat Feb 27 01:16:15 2021\n",
        "\n",
        "@author: intel123\n",
        "\"\"\"\n",
        "\n",
        "from keras.models import Sequential\n",
        "from keras.layers import Conv2D\n",
        "from keras.layers import MaxPooling2D\n",
        "from keras.layers import Flatten\n",
        "from keras.layers import Dense\n",
        "import warnings\n",
        "warnings.filterwarnings('ignore')\n",
        "\n",
        "\n",
        "Classifier=Sequential();\n",
        "\n",
        "Classifier.add(Conv2D(64,(3,3),input_shape=(64,64,3),activation='relu'))\n",
        "\n",
        "Classifier.add(MaxPooling2D(pool_size=(2,2)))\n",
        "\n",
        "Classifier.add(Conv2D(32,(3,3),activation='relu'))\n",
        "\n",
        "Classifier.add(MaxPooling2D(pool_size=(2,2)))\n",
        "\n",
        "Classifier.add(Flatten())\n",
        "\n",
        "Classifier.add(Dense(units=104, activation='relu'))\n",
        "Classifier.add(Dense(units=1, activation='sigmoid'))\n",
        "\n",
        "Classifier.compile(optimizer ='adam',loss='binary_crossentropy',metrics=['accuracy'])\n",
        "\n",
        "from keras.preprocessing.image import ImageDataGenerator\n",
        "\n",
        "train_datagen = ImageDataGenerator(rescale = 1./255,\n",
        "                                   shear_range = 0.4,\n",
        "                                   zoom_range = 0.3,\n",
        "                                   horizontal_flip = True)\n",
        "\n",
        "test_datagen = ImageDataGenerator(rescale = 1./255)\n",
        "\n",
        "training_set = train_datagen.flow_from_directory('/content/Covid19-dataset/train',\n",
        "                                                 target_size = (64, 64),\n",
        "                                                 batch_size = 4,\n",
        "                                                 class_mode = 'binary')\n",
        "\n",
        "test_set = test_datagen.flow_from_directory('/content/Covid19-dataset/test',\n",
        "                                            target_size = (64, 64),\n",
        "                                            batch_size = 4,\n",
        "                                            class_mode = 'binary')\n",
        "\n",
        "\n",
        "Classifier.fit_generator(training_set,\n",
        "                         steps_per_epoch = 40,\n",
        "                         epochs = 5,\n",
        "                         validation_data = test_set,\n",
        "                         validation_steps = 8)\n",
        "\n",
        "import numpy as np\n",
        "import keras.utils as image\n",
        "test_image = image.load_img('/content/Covid19-dataset/normal.jpg',target_size=(64,64))\n",
        "test_image = image.img_to_array(test_image)\n",
        "test_image = np.expand_dims(test_image,axis=0)\n",
        "result = Classifier.predict(test_image)\n",
        "training_set.class_indices\n",
        "if result[0][0] == 1:\n",
        "    prediction = 'Normal'\n",
        "    print(prediction)\n",
        "else:\n",
        "    prediction = 'COVID'\n",
        "    print(prediction)"
      ]
    },
    {
      "cell_type": "code",
      "source": [],
      "metadata": {
        "id": "WrPf9QZVFTCt"
      },
      "execution_count": null,
      "outputs": []
    },
    {
      "cell_type": "code",
      "source": [
        "from keras.models import Sequential\n",
        "from keras.layers import Conv2D\n",
        "from keras.layers import MaxPooling2D\n",
        "from keras.layers import Flatten\n",
        "from keras.layers import Dense\n",
        "import warnings\n",
        "warnings.filterwarnings('ignore')"
      ],
      "metadata": {
        "id": "shUTOu6gEuSm"
      },
      "execution_count": 29,
      "outputs": []
    },
    {
      "cell_type": "code",
      "source": [
        "Classifier=Sequential();"
      ],
      "metadata": {
        "id": "vEoYhoWcEzFV"
      },
      "execution_count": 30,
      "outputs": []
    },
    {
      "cell_type": "code",
      "source": [
        "Classifier.add(Conv2D(64,(3,3),input_shape=(64,64,3),activation='relu'))"
      ],
      "metadata": {
        "id": "-paQwx46E_Fn"
      },
      "execution_count": 31,
      "outputs": []
    },
    {
      "cell_type": "code",
      "source": [
        "Classifier.add(MaxPooling2D(pool_size=(2,2)))"
      ],
      "metadata": {
        "id": "JSXdLfhFFCpl"
      },
      "execution_count": 32,
      "outputs": []
    },
    {
      "cell_type": "code",
      "source": [
        "Classifier.add(Conv2D(32,(3,3),activation='relu'))"
      ],
      "metadata": {
        "id": "_VcpL8woFGDW"
      },
      "execution_count": 33,
      "outputs": []
    },
    {
      "cell_type": "code",
      "source": [
        "Classifier.add(MaxPooling2D(pool_size=(2,2)))"
      ],
      "metadata": {
        "id": "oVdi2w7rFJUV"
      },
      "execution_count": 34,
      "outputs": []
    },
    {
      "cell_type": "code",
      "source": [
        "Classifier.add(Flatten())"
      ],
      "metadata": {
        "id": "ko4ETLL_FNIM"
      },
      "execution_count": 35,
      "outputs": []
    },
    {
      "cell_type": "code",
      "source": [
        "Classifier.add(Dense(units=104, activation='relu'))"
      ],
      "metadata": {
        "id": "rxeDcFVWFUFl"
      },
      "execution_count": 36,
      "outputs": []
    },
    {
      "cell_type": "code",
      "source": [
        "Classifier.add(Dense(units=1, activation='sigmoid'))"
      ],
      "metadata": {
        "id": "jwI--3nqFVWF"
      },
      "execution_count": 37,
      "outputs": []
    },
    {
      "cell_type": "code",
      "source": [
        "Classifier.compile(optimizer ='adam',loss='binary_crossentropy',metrics=['accuracy'])"
      ],
      "metadata": {
        "id": "1QVPID1sFY-1"
      },
      "execution_count": 38,
      "outputs": []
    },
    {
      "cell_type": "code",
      "source": [
        "from keras.preprocessing.image import ImageDataGenerator"
      ],
      "metadata": {
        "id": "1o3x9uPlFcwF"
      },
      "execution_count": 39,
      "outputs": []
    },
    {
      "cell_type": "code",
      "source": [
        "train_datagen = ImageDataGenerator(rescale = 1./255,\n",
        "                                   shear_range = 0.4,\n",
        "                                   zoom_range = 0.3,\n",
        "                                   horizontal_flip = True)"
      ],
      "metadata": {
        "id": "IbIva7X5FgWs"
      },
      "execution_count": 40,
      "outputs": []
    },
    {
      "cell_type": "code",
      "source": [
        "test_datagen = ImageDataGenerator(rescale = 1./255)"
      ],
      "metadata": {
        "id": "GhPb2tGJFlFN"
      },
      "execution_count": 41,
      "outputs": []
    },
    {
      "cell_type": "code",
      "source": [
        "training_set = train_datagen.flow_from_directory('/content/Covid19-dataset/train',\n",
        "                                                 target_size = (64, 64),\n",
        "                                                 batch_size = 4,\n",
        "                                                 class_mode = 'binary')"
      ],
      "metadata": {
        "colab": {
          "base_uri": "https://localhost:8080/"
        },
        "id": "vAdy6qNTFoud",
        "outputId": "653aeace-5443-4fdc-da4b-8cfdd3f9e821"
      },
      "execution_count": 42,
      "outputs": [
        {
          "output_type": "stream",
          "name": "stdout",
          "text": [
            "Found 251 images belonging to 3 classes.\n"
          ]
        }
      ]
    },
    {
      "cell_type": "code",
      "source": [
        "test_set = test_datagen.flow_from_directory('/content/Covid19-dataset/test',\n",
        "                                            target_size = (64, 64),\n",
        "                                            batch_size = 4,\n",
        "                                            class_mode = 'binary')"
      ],
      "metadata": {
        "colab": {
          "base_uri": "https://localhost:8080/"
        },
        "id": "Z0Xg0k6oFtl1",
        "outputId": "e532cce6-9ef5-4e42-ea86-6bd2eb2163a4"
      },
      "execution_count": 43,
      "outputs": [
        {
          "output_type": "stream",
          "name": "stdout",
          "text": [
            "Found 66 images belonging to 3 classes.\n"
          ]
        }
      ]
    },
    {
      "cell_type": "code",
      "source": [
        "Classifier.fit_generator(training_set,\n",
        "                         steps_per_epoch = 40,\n",
        "                         epochs = 5,\n",
        "                         validation_data = test_set,\n",
        "                         validation_steps = 8)"
      ],
      "metadata": {
        "colab": {
          "base_uri": "https://localhost:8080/"
        },
        "id": "HC7vUcijF1rG",
        "outputId": "60ea31dc-f3fd-4b52-fbc6-c30434951359"
      },
      "execution_count": 44,
      "outputs": [
        {
          "output_type": "stream",
          "name": "stdout",
          "text": [
            "Epoch 1/5\n",
            "40/40 [==============================] - 13s 300ms/step - loss: 0.5265 - accuracy: 0.3375 - val_loss: -0.0172 - val_accuracy: 0.3125\n",
            "Epoch 2/5\n",
            "40/40 [==============================] - 11s 276ms/step - loss: -0.5246 - accuracy: 0.4088 - val_loss: -6.6590 - val_accuracy: 0.5000\n",
            "Epoch 3/5\n",
            "40/40 [==============================] - 13s 335ms/step - loss: -15.9864 - accuracy: 0.4465 - val_loss: -87.3316 - val_accuracy: 0.3438\n",
            "Epoch 4/5\n",
            "40/40 [==============================] - 12s 291ms/step - loss: -145.1624 - accuracy: 0.4277 - val_loss: -269.5728 - val_accuracy: 0.2812\n",
            "Epoch 5/5\n",
            "40/40 [==============================] - 11s 264ms/step - loss: -1038.5109 - accuracy: 0.3836 - val_loss: -1918.8057 - val_accuracy: 0.3438\n"
          ]
        },
        {
          "output_type": "execute_result",
          "data": {
            "text/plain": [
              "<keras.callbacks.History at 0x7f0945be7400>"
            ]
          },
          "metadata": {},
          "execution_count": 44
        }
      ]
    },
    {
      "cell_type": "code",
      "source": [
        "import numpy as np\n",
        "import keras.utils as image"
      ],
      "metadata": {
        "id": "Hz3S6hIgGWv9"
      },
      "execution_count": 45,
      "outputs": []
    },
    {
      "cell_type": "code",
      "source": [
        "test_image = image.load_img('/content/Covid19-dataset/normal.jpg',target_size=(64,64))"
      ],
      "metadata": {
        "id": "CVMYa3RiGtZd"
      },
      "execution_count": 46,
      "outputs": []
    },
    {
      "cell_type": "code",
      "source": [
        "test_image = image.img_to_array(test_image)"
      ],
      "metadata": {
        "id": "DLcz7sRmGyiE"
      },
      "execution_count": 47,
      "outputs": []
    },
    {
      "cell_type": "code",
      "source": [
        "test_image = np.expand_dims(test_image,axis=0)"
      ],
      "metadata": {
        "id": "dzFr7ZC-G4MM"
      },
      "execution_count": 48,
      "outputs": []
    },
    {
      "cell_type": "code",
      "source": [
        "result = Classifier.predict(test_image)"
      ],
      "metadata": {
        "colab": {
          "base_uri": "https://localhost:8080/"
        },
        "id": "awHHuDirG7ec",
        "outputId": "07b725b4-a56f-4121-ba14-769b6da1d7e8"
      },
      "execution_count": 49,
      "outputs": [
        {
          "output_type": "stream",
          "name": "stdout",
          "text": [
            "1/1 [==============================] - 0s 76ms/step\n"
          ]
        }
      ]
    },
    {
      "cell_type": "code",
      "source": [
        "training_set.class_indices\n",
        "if result[0][0] == 1:\n",
        "    prediction = 'Normal'\n",
        "    print(prediction)\n",
        "else:\n",
        "    prediction = 'COVID'\n",
        "    print(prediction)"
      ],
      "metadata": {
        "colab": {
          "base_uri": "https://localhost:8080/"
        },
        "id": "aB4W81cTHAM1",
        "outputId": "86e49c34-e81e-413a-9d29-5f7bed64cbec"
      },
      "execution_count": 50,
      "outputs": [
        {
          "output_type": "stream",
          "name": "stdout",
          "text": [
            "Normal\n"
          ]
        }
      ]
    },
    {
      "cell_type": "code",
      "source": [
        "Classifier.fit_generator(training_set,\n",
        "                         steps_per_epoch = 40,\n",
        "                         epochs = 100,\n",
        "                         validation_data = test_set,\n",
        "                         validation_steps = 8)"
      ],
      "metadata": {
        "colab": {
          "base_uri": "https://localhost:8080/"
        },
        "id": "FAOEMbIdUrkZ",
        "outputId": "5649835e-ef76-4a5e-fc22-9f38710849e3"
      },
      "execution_count": 53,
      "outputs": [
        {
          "output_type": "stream",
          "name": "stdout",
          "text": [
            "Epoch 1/100\n",
            "40/40 [==============================] - 12s 294ms/step - loss: -6489.4746 - accuracy: 0.4088 - val_loss: -13261.0254 - val_accuracy: 0.2812\n",
            "Epoch 2/100\n",
            "40/40 [==============================] - 11s 275ms/step - loss: -10664.9590 - accuracy: 0.4465 - val_loss: -18379.6797 - val_accuracy: 0.5000\n",
            "Epoch 3/100\n",
            "40/40 [==============================] - 11s 283ms/step - loss: -20275.5508 - accuracy: 0.3938 - val_loss: -44119.8008 - val_accuracy: 0.4375\n",
            "Epoch 4/100\n",
            "40/40 [==============================] - 12s 302ms/step - loss: -34224.6055 - accuracy: 0.4654 - val_loss: -42979.3711 - val_accuracy: 0.4375\n",
            "Epoch 5/100\n",
            "40/40 [==============================] - 12s 296ms/step - loss: -77710.2891 - accuracy: 0.4465 - val_loss: -90273.0938 - val_accuracy: 0.4062\n",
            "Epoch 6/100\n",
            "40/40 [==============================] - 11s 284ms/step - loss: -98468.2812 - accuracy: 0.4340 - val_loss: -144557.6406 - val_accuracy: 0.4375\n",
            "Epoch 7/100\n",
            "40/40 [==============================] - 11s 279ms/step - loss: -167389.9531 - accuracy: 0.4187 - val_loss: -382565.2188 - val_accuracy: 0.3438\n",
            "Epoch 8/100\n",
            "40/40 [==============================] - 10s 251ms/step - loss: -151669.2656 - accuracy: 0.5094 - val_loss: -302097.9375 - val_accuracy: 0.3438\n",
            "Epoch 9/100\n",
            "40/40 [==============================] - 12s 290ms/step - loss: -261151.3281 - accuracy: 0.4000 - val_loss: -239889.4688 - val_accuracy: 0.5938\n",
            "Epoch 10/100\n",
            "40/40 [==============================] - 12s 294ms/step - loss: -274236.0000 - accuracy: 0.4591 - val_loss: -412024.8125 - val_accuracy: 0.5938\n",
            "Epoch 11/100\n",
            "40/40 [==============================] - 11s 277ms/step - loss: -525494.2500 - accuracy: 0.4717 - val_loss: -858116.3750 - val_accuracy: 0.5312\n",
            "Epoch 12/100\n",
            "40/40 [==============================] - 13s 333ms/step - loss: -550638.4375 - accuracy: 0.4187 - val_loss: -828289.3750 - val_accuracy: 0.5938\n",
            "Epoch 13/100\n",
            "40/40 [==============================] - 12s 311ms/step - loss: -759851.3750 - accuracy: 0.4875 - val_loss: -1248728.3750 - val_accuracy: 0.4688\n",
            "Epoch 14/100\n",
            "40/40 [==============================] - 12s 301ms/step - loss: -921812.5000 - accuracy: 0.4717 - val_loss: -1814804.1250 - val_accuracy: 0.4688\n",
            "Epoch 15/100\n",
            "40/40 [==============================] - 12s 296ms/step - loss: -1097930.5000 - accuracy: 0.4843 - val_loss: -2102547.2500 - val_accuracy: 0.5625\n",
            "Epoch 16/100\n",
            "40/40 [==============================] - 12s 294ms/step - loss: -1721392.5000 - accuracy: 0.4591 - val_loss: -1249618.2500 - val_accuracy: 0.5625\n",
            "Epoch 17/100\n",
            "40/40 [==============================] - 11s 256ms/step - loss: -2085387.2500 - accuracy: 0.4717 - val_loss: -2666704.2500 - val_accuracy: 0.5625\n",
            "Epoch 18/100\n",
            "40/40 [==============================] - 12s 285ms/step - loss: -2230680.5000 - accuracy: 0.4654 - val_loss: -2589288.7500 - val_accuracy: 0.4688\n",
            "Epoch 19/100\n",
            "40/40 [==============================] - 12s 292ms/step - loss: -2895117.7500 - accuracy: 0.4088 - val_loss: -3078159.2500 - val_accuracy: 0.5000\n",
            "Epoch 20/100\n",
            "40/40 [==============================] - 11s 280ms/step - loss: -3775143.0000 - accuracy: 0.4025 - val_loss: -6538792.0000 - val_accuracy: 0.3438\n",
            "Epoch 21/100\n",
            "40/40 [==============================] - 11s 284ms/step - loss: -5171442.5000 - accuracy: 0.3836 - val_loss: -5373959.5000 - val_accuracy: 0.4375\n",
            "Epoch 22/100\n",
            "40/40 [==============================] - 10s 249ms/step - loss: -4527732.5000 - accuracy: 0.4465 - val_loss: -3789935.7500 - val_accuracy: 0.5625\n",
            "Epoch 23/100\n",
            "40/40 [==============================] - 11s 262ms/step - loss: -5191226.0000 - accuracy: 0.4025 - val_loss: -9409323.0000 - val_accuracy: 0.5312\n",
            "Epoch 24/100\n",
            "40/40 [==============================] - 12s 295ms/step - loss: -6744916.5000 - accuracy: 0.4403 - val_loss: -10668529.0000 - val_accuracy: 0.4688\n",
            "Epoch 25/100\n",
            "40/40 [==============================] - 11s 280ms/step - loss: -6622624.5000 - accuracy: 0.5031 - val_loss: -11746042.0000 - val_accuracy: 0.4062\n",
            "Epoch 26/100\n",
            "40/40 [==============================] - 10s 241ms/step - loss: -7915946.5000 - accuracy: 0.3774 - val_loss: -6595089.5000 - val_accuracy: 0.6875\n",
            "Epoch 27/100\n",
            "40/40 [==============================] - 11s 268ms/step - loss: -13981992.0000 - accuracy: 0.4025 - val_loss: -12620990.0000 - val_accuracy: 0.4375\n",
            "Epoch 28/100\n",
            "40/40 [==============================] - 11s 271ms/step - loss: -9990199.0000 - accuracy: 0.4125 - val_loss: -16665883.0000 - val_accuracy: 0.4375\n",
            "Epoch 29/100\n",
            "40/40 [==============================] - 12s 294ms/step - loss: -12559208.0000 - accuracy: 0.4340 - val_loss: -19326126.0000 - val_accuracy: 0.5000\n",
            "Epoch 30/100\n",
            "40/40 [==============================] - 12s 300ms/step - loss: -12381194.0000 - accuracy: 0.4465 - val_loss: -15795800.0000 - val_accuracy: 0.4375\n",
            "Epoch 31/100\n",
            "40/40 [==============================] - 11s 287ms/step - loss: -13061044.0000 - accuracy: 0.4906 - val_loss: -12546196.0000 - val_accuracy: 0.5000\n",
            "Epoch 32/100\n",
            "40/40 [==============================] - 11s 282ms/step - loss: -18294350.0000 - accuracy: 0.4277 - val_loss: -16658549.0000 - val_accuracy: 0.5312\n",
            "Epoch 33/100\n",
            "40/40 [==============================] - 10s 241ms/step - loss: -18786244.0000 - accuracy: 0.4151 - val_loss: -31514580.0000 - val_accuracy: 0.3750\n",
            "Epoch 34/100\n",
            "40/40 [==============================] - 11s 272ms/step - loss: -19828534.0000 - accuracy: 0.4403 - val_loss: -25775992.0000 - val_accuracy: 0.5312\n",
            "Epoch 35/100\n",
            "40/40 [==============================] - 12s 294ms/step - loss: -20432566.0000 - accuracy: 0.4465 - val_loss: -24379320.0000 - val_accuracy: 0.4375\n",
            "Epoch 36/100\n",
            "40/40 [==============================] - 11s 263ms/step - loss: -18467924.0000 - accuracy: 0.4843 - val_loss: -29144976.0000 - val_accuracy: 0.5625\n",
            "Epoch 37/100\n",
            "40/40 [==============================] - 12s 289ms/step - loss: -22170840.0000 - accuracy: 0.4528 - val_loss: -37286304.0000 - val_accuracy: 0.4375\n",
            "Epoch 38/100\n",
            "40/40 [==============================] - 11s 274ms/step - loss: -31586556.0000 - accuracy: 0.4375 - val_loss: -32370664.0000 - val_accuracy: 0.3438\n",
            "Epoch 39/100\n",
            "40/40 [==============================] - 11s 279ms/step - loss: -31842366.0000 - accuracy: 0.3711 - val_loss: -49399088.0000 - val_accuracy: 0.4688\n",
            "Epoch 40/100\n",
            "40/40 [==============================] - 12s 311ms/step - loss: -36532772.0000 - accuracy: 0.4528 - val_loss: -44129684.0000 - val_accuracy: 0.5312\n",
            "Epoch 41/100\n",
            "40/40 [==============================] - 10s 251ms/step - loss: -30311092.0000 - accuracy: 0.4340 - val_loss: -44445472.0000 - val_accuracy: 0.5000\n",
            "Epoch 42/100\n",
            "40/40 [==============================] - 11s 277ms/step - loss: -38141364.0000 - accuracy: 0.4214 - val_loss: -38025796.0000 - val_accuracy: 0.5000\n",
            "Epoch 43/100\n",
            "40/40 [==============================] - 10s 245ms/step - loss: -44009472.0000 - accuracy: 0.4465 - val_loss: -57041764.0000 - val_accuracy: 0.5000\n",
            "Epoch 44/100\n",
            "40/40 [==============================] - 10s 238ms/step - loss: -45268284.0000 - accuracy: 0.4528 - val_loss: -60600752.0000 - val_accuracy: 0.4062\n",
            "Epoch 45/100\n",
            "40/40 [==============================] - 12s 299ms/step - loss: -49594112.0000 - accuracy: 0.4340 - val_loss: -80316200.0000 - val_accuracy: 0.3125\n",
            "Epoch 46/100\n",
            "40/40 [==============================] - 12s 292ms/step - loss: -46563784.0000 - accuracy: 0.4125 - val_loss: -75433192.0000 - val_accuracy: 0.4688\n",
            "Epoch 47/100\n",
            "40/40 [==============================] - 11s 283ms/step - loss: -60196852.0000 - accuracy: 0.4313 - val_loss: -89746912.0000 - val_accuracy: 0.5312\n",
            "Epoch 48/100\n",
            "40/40 [==============================] - 11s 288ms/step - loss: -56981044.0000 - accuracy: 0.4437 - val_loss: -67087184.0000 - val_accuracy: 0.4688\n",
            "Epoch 49/100\n",
            "40/40 [==============================] - 11s 259ms/step - loss: -66702348.0000 - accuracy: 0.4125 - val_loss: -112186336.0000 - val_accuracy: 0.5312\n",
            "Epoch 50/100\n",
            "40/40 [==============================] - 11s 283ms/step - loss: -66201464.0000 - accuracy: 0.4340 - val_loss: -81697448.0000 - val_accuracy: 0.4062\n",
            "Epoch 51/100\n",
            "40/40 [==============================] - 9s 228ms/step - loss: -81154888.0000 - accuracy: 0.3899 - val_loss: -85620528.0000 - val_accuracy: 0.4375\n",
            "Epoch 52/100\n",
            "40/40 [==============================] - 10s 247ms/step - loss: -84075456.0000 - accuracy: 0.4277 - val_loss: -66366728.0000 - val_accuracy: 0.4375\n",
            "Epoch 53/100\n",
            "40/40 [==============================] - 12s 298ms/step - loss: -91654120.0000 - accuracy: 0.4088 - val_loss: -95439040.0000 - val_accuracy: 0.5625\n",
            "Epoch 54/100\n",
            "40/40 [==============================] - 12s 285ms/step - loss: -98759632.0000 - accuracy: 0.4062 - val_loss: -154637008.0000 - val_accuracy: 0.4375\n",
            "Epoch 55/100\n",
            "40/40 [==============================] - 9s 235ms/step - loss: -73328168.0000 - accuracy: 0.4340 - val_loss: -65535096.0000 - val_accuracy: 0.5000\n",
            "Epoch 56/100\n",
            "40/40 [==============================] - 12s 290ms/step - loss: -106870200.0000 - accuracy: 0.4812 - val_loss: -111112472.0000 - val_accuracy: 0.5625\n",
            "Epoch 57/100\n",
            "40/40 [==============================] - 12s 307ms/step - loss: -91393904.0000 - accuracy: 0.4151 - val_loss: -120317776.0000 - val_accuracy: 0.5312\n",
            "Epoch 58/100\n",
            "40/40 [==============================] - 12s 287ms/step - loss: -131603720.0000 - accuracy: 0.4277 - val_loss: -156733616.0000 - val_accuracy: 0.4688\n",
            "Epoch 59/100\n",
            "40/40 [==============================] - 11s 285ms/step - loss: -85182984.0000 - accuracy: 0.4780 - val_loss: -145300192.0000 - val_accuracy: 0.4375\n",
            "Epoch 60/100\n",
            "40/40 [==============================] - 10s 236ms/step - loss: -117811752.0000 - accuracy: 0.4528 - val_loss: -164620064.0000 - val_accuracy: 0.5312\n",
            "Epoch 61/100\n",
            "40/40 [==============================] - 12s 289ms/step - loss: -150488368.0000 - accuracy: 0.4375 - val_loss: -188880992.0000 - val_accuracy: 0.4688\n",
            "Epoch 62/100\n",
            "40/40 [==============================] - 12s 298ms/step - loss: -143839024.0000 - accuracy: 0.4403 - val_loss: -195759392.0000 - val_accuracy: 0.5625\n",
            "Epoch 63/100\n",
            "40/40 [==============================] - 11s 285ms/step - loss: -162165344.0000 - accuracy: 0.4528 - val_loss: -125806368.0000 - val_accuracy: 0.5312\n",
            "Epoch 64/100\n",
            "40/40 [==============================] - 12s 300ms/step - loss: -138004640.0000 - accuracy: 0.4214 - val_loss: -150821872.0000 - val_accuracy: 0.4375\n",
            "Epoch 65/100\n",
            "40/40 [==============================] - 12s 297ms/step - loss: -104362248.0000 - accuracy: 0.4717 - val_loss: -132171480.0000 - val_accuracy: 0.5938\n",
            "Epoch 66/100\n",
            "40/40 [==============================] - 12s 302ms/step - loss: -165987232.0000 - accuracy: 0.4403 - val_loss: -147183360.0000 - val_accuracy: 0.5000\n",
            "Epoch 67/100\n",
            "40/40 [==============================] - 12s 302ms/step - loss: -136371168.0000 - accuracy: 0.4528 - val_loss: -244347168.0000 - val_accuracy: 0.4688\n",
            "Epoch 68/100\n",
            "40/40 [==============================] - 12s 293ms/step - loss: -186581088.0000 - accuracy: 0.4563 - val_loss: -303120960.0000 - val_accuracy: 0.5938\n",
            "Epoch 69/100\n",
            "40/40 [==============================] - 12s 293ms/step - loss: -210278048.0000 - accuracy: 0.4340 - val_loss: -337088192.0000 - val_accuracy: 0.4688\n",
            "Epoch 70/100\n",
            "40/40 [==============================] - 11s 280ms/step - loss: -194264736.0000 - accuracy: 0.4750 - val_loss: -331512576.0000 - val_accuracy: 0.5938\n",
            "Epoch 71/100\n",
            "40/40 [==============================] - 12s 303ms/step - loss: -180611232.0000 - accuracy: 0.4654 - val_loss: -412182976.0000 - val_accuracy: 0.3750\n",
            "Epoch 72/100\n",
            "40/40 [==============================] - 12s 313ms/step - loss: -156755376.0000 - accuracy: 0.4465 - val_loss: -308738880.0000 - val_accuracy: 0.4375\n",
            "Epoch 73/100\n",
            "40/40 [==============================] - 9s 238ms/step - loss: -186028256.0000 - accuracy: 0.4780 - val_loss: -364929664.0000 - val_accuracy: 0.4688\n",
            "Epoch 74/100\n",
            "40/40 [==============================] - 11s 266ms/step - loss: -309837248.0000 - accuracy: 0.4214 - val_loss: -146206560.0000 - val_accuracy: 0.4688\n",
            "Epoch 75/100\n",
            "40/40 [==============================] - 11s 270ms/step - loss: -276306752.0000 - accuracy: 0.4403 - val_loss: -281506752.0000 - val_accuracy: 0.5625\n",
            "Epoch 76/100\n",
            "40/40 [==============================] - 11s 285ms/step - loss: -216648544.0000 - accuracy: 0.4187 - val_loss: -388034528.0000 - val_accuracy: 0.4375\n",
            "Epoch 77/100\n",
            "40/40 [==============================] - 10s 248ms/step - loss: -247734736.0000 - accuracy: 0.4969 - val_loss: -135103728.0000 - val_accuracy: 0.5625\n",
            "Epoch 78/100\n",
            "40/40 [==============================] - 12s 306ms/step - loss: -228467200.0000 - accuracy: 0.5063 - val_loss: -255230768.0000 - val_accuracy: 0.5625\n",
            "Epoch 79/100\n",
            "40/40 [==============================] - 9s 234ms/step - loss: -326647488.0000 - accuracy: 0.4000 - val_loss: -331656896.0000 - val_accuracy: 0.5312\n",
            "Epoch 80/100\n",
            "40/40 [==============================] - 11s 266ms/step - loss: -301081504.0000 - accuracy: 0.4500 - val_loss: -463423424.0000 - val_accuracy: 0.4688\n",
            "Epoch 81/100\n",
            "40/40 [==============================] - 12s 306ms/step - loss: -317602720.0000 - accuracy: 0.4214 - val_loss: -422051456.0000 - val_accuracy: 0.4375\n",
            "Epoch 82/100\n",
            "40/40 [==============================] - 10s 262ms/step - loss: -339931392.0000 - accuracy: 0.4340 - val_loss: -301753248.0000 - val_accuracy: 0.5938\n",
            "Epoch 83/100\n",
            "40/40 [==============================] - 11s 290ms/step - loss: -237828800.0000 - accuracy: 0.4214 - val_loss: -188538416.0000 - val_accuracy: 0.5312\n",
            "Epoch 84/100\n",
            "40/40 [==============================] - 13s 316ms/step - loss: -358452384.0000 - accuracy: 0.4625 - val_loss: -477133568.0000 - val_accuracy: 0.4375\n",
            "Epoch 85/100\n",
            "40/40 [==============================] - 12s 295ms/step - loss: -312729952.0000 - accuracy: 0.4563 - val_loss: -273678112.0000 - val_accuracy: 0.5312\n",
            "Epoch 86/100\n",
            "40/40 [==============================] - 12s 291ms/step - loss: -359076096.0000 - accuracy: 0.4437 - val_loss: -480556864.0000 - val_accuracy: 0.4375\n",
            "Epoch 87/100\n",
            "40/40 [==============================] - 12s 286ms/step - loss: -347447616.0000 - accuracy: 0.4375 - val_loss: -358552192.0000 - val_accuracy: 0.5625\n",
            "Epoch 88/100\n",
            "40/40 [==============================] - 12s 289ms/step - loss: -409884128.0000 - accuracy: 0.3962 - val_loss: -646116608.0000 - val_accuracy: 0.3750\n",
            "Epoch 89/100\n",
            "40/40 [==============================] - 11s 260ms/step - loss: -411418432.0000 - accuracy: 0.4780 - val_loss: -272966720.0000 - val_accuracy: 0.7188\n",
            "Epoch 90/100\n",
            "40/40 [==============================] - 12s 301ms/step - loss: -472045664.0000 - accuracy: 0.4563 - val_loss: -517376736.0000 - val_accuracy: 0.5625\n",
            "Epoch 91/100\n",
            "40/40 [==============================] - 11s 264ms/step - loss: -443531456.0000 - accuracy: 0.4843 - val_loss: -612561856.0000 - val_accuracy: 0.5625\n",
            "Epoch 92/100\n",
            "40/40 [==============================] - 12s 293ms/step - loss: -367037856.0000 - accuracy: 0.4277 - val_loss: -441413760.0000 - val_accuracy: 0.4688\n",
            "Epoch 93/100\n",
            "40/40 [==============================] - 10s 261ms/step - loss: -442162016.0000 - accuracy: 0.5000 - val_loss: -769445056.0000 - val_accuracy: 0.4375\n",
            "Epoch 94/100\n",
            "40/40 [==============================] - 11s 274ms/step - loss: -674638272.0000 - accuracy: 0.3962 - val_loss: -614102016.0000 - val_accuracy: 0.4688\n",
            "Epoch 95/100\n",
            "40/40 [==============================] - 11s 279ms/step - loss: -424547520.0000 - accuracy: 0.3688 - val_loss: -412404800.0000 - val_accuracy: 0.5312\n",
            "Epoch 96/100\n",
            "40/40 [==============================] - 11s 270ms/step - loss: -566073536.0000 - accuracy: 0.3875 - val_loss: -493823584.0000 - val_accuracy: 0.5938\n",
            "Epoch 97/100\n",
            "40/40 [==============================] - 11s 289ms/step - loss: -519273312.0000 - accuracy: 0.4938 - val_loss: -820465280.0000 - val_accuracy: 0.4688\n",
            "Epoch 98/100\n",
            "40/40 [==============================] - 11s 266ms/step - loss: -547401920.0000 - accuracy: 0.4654 - val_loss: -919541696.0000 - val_accuracy: 0.4688\n",
            "Epoch 99/100\n",
            "40/40 [==============================] - 12s 289ms/step - loss: -543203456.0000 - accuracy: 0.4250 - val_loss: -727695296.0000 - val_accuracy: 0.5625\n",
            "Epoch 100/100\n",
            "40/40 [==============================] - 11s 264ms/step - loss: -560186432.0000 - accuracy: 0.4465 - val_loss: -705519936.0000 - val_accuracy: 0.5000\n"
          ]
        },
        {
          "output_type": "execute_result",
          "data": {
            "text/plain": [
              "<keras.callbacks.History at 0x7f09bbd75df0>"
            ]
          },
          "metadata": {},
          "execution_count": 53
        }
      ]
    },
    {
      "cell_type": "code",
      "source": [
        "import numpy as np\n",
        "import keras.utils as image"
      ],
      "metadata": {
        "id": "RG2Tnho2ba9u"
      },
      "execution_count": 54,
      "outputs": []
    },
    {
      "cell_type": "code",
      "source": [
        "test_image = image.load_img('/content/Covid19-dataset/normal.jpg',target_size=(64,64))\n",
        "test_image = image.img_to_array(test_image)\n",
        "test_image = np.expand_dims(test_image,axis=0)\n",
        "result = Classifier.predict(test_image)\n",
        "training_set.class_indices\n",
        "if result[0][0] == 1:\n",
        "    prediction = 'Normal'\n",
        "    print(prediction)\n",
        "else:\n",
        "    prediction = 'COVID'\n",
        "    print(prediction)"
      ],
      "metadata": {
        "colab": {
          "base_uri": "https://localhost:8080/"
        },
        "id": "ccJwA2a9bcUF",
        "outputId": "ac348f7e-32c9-42a7-c706-6dc8a7538c0c"
      },
      "execution_count": 58,
      "outputs": [
        {
          "output_type": "stream",
          "name": "stdout",
          "text": [
            "1/1 [==============================] - 0s 36ms/step\n",
            "Normal\n"
          ]
        }
      ]
    },
    {
      "cell_type": "code",
      "source": [
        "from google.colab import drive\n",
        "drive.mount('/content/gdrive')\n",
        "\n"
      ],
      "metadata": {
        "colab": {
          "base_uri": "https://localhost:8080/"
        },
        "id": "Re39NELl5cHM",
        "outputId": "fd1cd622-3b63-4442-ddcc-14d3650df258"
      },
      "execution_count": 3,
      "outputs": [
        {
          "output_type": "stream",
          "name": "stdout",
          "text": [
            "Mounted at /content/gdrive\n"
          ]
        }
      ]
    },
    {
      "cell_type": "code",
      "source": [
        "!unzip /content/gdrive/MyDrive/Covid19-dataset.zip"
      ],
      "metadata": {
        "colab": {
          "base_uri": "https://localhost:8080/"
        },
        "id": "eP_yXj0R6kSc",
        "outputId": "09627b2f-71c0-4a9b-ece6-75868ea8fba0"
      },
      "execution_count": 17,
      "outputs": [
        {
          "output_type": "stream",
          "name": "stdout",
          "text": [
            "Archive:  /content/gdrive/MyDrive/Covid19-dataset.zip\n",
            "  inflating: Covid19-dataset/Covid_or_normal.jpg  \n",
            "   creating: Covid19-dataset/test/\n",
            "   creating: Covid19-dataset/test/Covid/\n",
            "  inflating: Covid19-dataset/test/Covid/0100.jpeg  \n",
            "  inflating: Covid19-dataset/test/Covid/0102.jpeg  \n",
            "  inflating: Covid19-dataset/test/Covid/0105.png  \n",
            "  inflating: Covid19-dataset/test/Covid/0106.jpeg  \n",
            "  inflating: Covid19-dataset/test/Covid/0108.jpeg  \n",
            "  inflating: Covid19-dataset/test/Covid/0111.jpg  \n",
            "  inflating: Covid19-dataset/test/Covid/0112.jpg  \n",
            "  inflating: Covid19-dataset/test/Covid/0113.jpg  \n",
            "  inflating: Covid19-dataset/test/Covid/0115.jpeg  \n",
            "  inflating: Covid19-dataset/test/Covid/0118.jpeg  \n",
            "  inflating: Covid19-dataset/test/Covid/0119.jpeg  \n",
            "  inflating: Covid19-dataset/test/Covid/0120.jpg  \n",
            "  inflating: Covid19-dataset/test/Covid/094.png  \n",
            "  inflating: Covid19-dataset/test/Covid/096.png  \n",
            "  inflating: Covid19-dataset/test/Covid/098.jpeg  \n",
            "  inflating: Covid19-dataset/test/Covid/auntminnie-2020_01_31_20_24_2322_2020_01_31_x-ray_coronavirus_US.jpg  \n",
            "  inflating: Covid19-dataset/test/Covid/auntminnie-a-2020_01_28_23_51_6665_2020_01_28_Vietnam_coronavirus.jpeg  \n",
            "  inflating: Covid19-dataset/test/Covid/auntminnie-b-2020_01_28_23_51_6665_2020_01_28_Vietnam_coronavirus.jpeg  \n",
            "  inflating: Covid19-dataset/test/Covid/auntminnie-c-2020_01_28_23_51_6665_2020_01_28_Vietnam_coronavirus.jpeg  \n",
            "  inflating: Covid19-dataset/test/Covid/auntminnie-d-2020_01_28_23_51_6665_2020_01_28_Vietnam_coronavirus.jpeg  \n",
            "  inflating: Covid19-dataset/test/Covid/COVID-00003b.jpg  \n",
            "  inflating: Covid19-dataset/test/Covid/COVID-00012.jpg  \n",
            "  inflating: Covid19-dataset/test/Covid/COVID-00022.jpg  \n",
            "  inflating: Covid19-dataset/test/Covid/COVID-00033.jpg  \n",
            "  inflating: Covid19-dataset/test/Covid/COVID-00037.jpg  \n",
            "  inflating: Covid19-dataset/test/Covid/radiopaedia-2019-novel-coronavirus-infected-pneumonia.jpg  \n",
            "   creating: Covid19-dataset/test/Normal/\n",
            "  inflating: Covid19-dataset/test/Normal/0101.jpeg  \n",
            "  inflating: Covid19-dataset/test/Normal/0102.jpeg  \n",
            "  inflating: Covid19-dataset/test/Normal/0103.jpeg  \n",
            "  inflating: Covid19-dataset/test/Normal/0105.jpeg  \n",
            "  inflating: Covid19-dataset/test/Normal/0106.jpeg  \n",
            "  inflating: Covid19-dataset/test/Normal/0107.jpeg  \n",
            "  inflating: Covid19-dataset/test/Normal/0108.jpeg  \n",
            "  inflating: Covid19-dataset/test/Normal/0109.jpeg  \n",
            "  inflating: Covid19-dataset/test/Normal/0110.jpeg  \n",
            "  inflating: Covid19-dataset/test/Normal/0111.jpeg  \n",
            "  inflating: Covid19-dataset/test/Normal/0112.jpeg  \n",
            "  inflating: Covid19-dataset/test/Normal/0114.jpeg  \n",
            "  inflating: Covid19-dataset/test/Normal/0115.jpeg  \n",
            "  inflating: Covid19-dataset/test/Normal/0116.jpeg  \n",
            "  inflating: Covid19-dataset/test/Normal/0117.jpeg  \n",
            "  inflating: Covid19-dataset/test/Normal/0118.jpeg  \n",
            "  inflating: Covid19-dataset/test/Normal/0119.jpeg  \n",
            "  inflating: Covid19-dataset/test/Normal/0120.jpeg  \n",
            "  inflating: Covid19-dataset/test/Normal/0121.jpeg  \n",
            "  inflating: Covid19-dataset/test/Normal/0122.jpeg  \n",
            "   creating: Covid19-dataset/test/Viral Pneumonia/\n",
            "  inflating: Covid19-dataset/test/Viral Pneumonia/0101.jpeg  \n",
            "  inflating: Covid19-dataset/test/Viral Pneumonia/0102.jpeg  \n",
            "  inflating: Covid19-dataset/test/Viral Pneumonia/0103.jpeg  \n",
            "  inflating: Covid19-dataset/test/Viral Pneumonia/0104.jpeg  \n",
            "  inflating: Covid19-dataset/test/Viral Pneumonia/0105.jpeg  \n",
            "  inflating: Covid19-dataset/test/Viral Pneumonia/0106.jpeg  \n",
            "  inflating: Covid19-dataset/test/Viral Pneumonia/0107.jpeg  \n",
            "  inflating: Covid19-dataset/test/Viral Pneumonia/0108.jpeg  \n",
            "  inflating: Covid19-dataset/test/Viral Pneumonia/0109.jpeg  \n",
            "  inflating: Covid19-dataset/test/Viral Pneumonia/0110.jpeg  \n",
            "  inflating: Covid19-dataset/test/Viral Pneumonia/0111.jpeg  \n",
            "  inflating: Covid19-dataset/test/Viral Pneumonia/0112.jpeg  \n",
            "  inflating: Covid19-dataset/test/Viral Pneumonia/0113.jpeg  \n",
            "  inflating: Covid19-dataset/test/Viral Pneumonia/0114.jpeg  \n",
            "  inflating: Covid19-dataset/test/Viral Pneumonia/0115.jpeg  \n",
            "  inflating: Covid19-dataset/test/Viral Pneumonia/0116.jpeg  \n",
            "  inflating: Covid19-dataset/test/Viral Pneumonia/0117.jpeg  \n",
            "  inflating: Covid19-dataset/test/Viral Pneumonia/0118.jpeg  \n",
            "  inflating: Covid19-dataset/test/Viral Pneumonia/0119.jpeg  \n",
            "  inflating: Covid19-dataset/test/Viral Pneumonia/0120.jpeg  \n",
            "   creating: Covid19-dataset/train/\n",
            "   creating: Covid19-dataset/train/Covid/\n",
            "  inflating: Covid19-dataset/train/Covid/01.jpeg  \n",
            "  inflating: Covid19-dataset/train/Covid/010.png  \n",
            "  inflating: Covid19-dataset/train/Covid/012.jpeg  \n",
            "  inflating: Covid19-dataset/train/Covid/015.jpg  \n",
            "  inflating: Covid19-dataset/train/Covid/019.png  \n",
            "  inflating: Covid19-dataset/train/Covid/02.jpeg  \n",
            "  inflating: Covid19-dataset/train/Covid/020.jpg  \n",
            "  inflating: Covid19-dataset/train/Covid/021.jpeg  \n",
            "  inflating: Covid19-dataset/train/Covid/022.jpeg  \n",
            "  inflating: Covid19-dataset/train/Covid/024.jpeg  \n",
            "  inflating: Covid19-dataset/train/Covid/025.jpeg  \n",
            "  inflating: Covid19-dataset/train/Covid/026.jpeg  \n",
            "  inflating: Covid19-dataset/train/Covid/027.jpeg  \n",
            "  inflating: Covid19-dataset/train/Covid/03.jpeg  \n",
            "  inflating: Covid19-dataset/train/Covid/031.jpeg  \n",
            "  inflating: Covid19-dataset/train/Covid/032.jpeg  \n",
            "  inflating: Covid19-dataset/train/Covid/033.png  \n",
            "  inflating: Covid19-dataset/train/Covid/039.jpeg  \n",
            "  inflating: Covid19-dataset/train/Covid/04.png  \n",
            "  inflating: Covid19-dataset/train/Covid/040.jpeg  \n",
            "  inflating: Covid19-dataset/train/Covid/041.jpeg  \n",
            "  inflating: Covid19-dataset/train/Covid/042.jpeg  \n",
            "  inflating: Covid19-dataset/train/Covid/043.jpeg  \n",
            "  inflating: Covid19-dataset/train/Covid/044.jpeg  \n",
            "  inflating: Covid19-dataset/train/Covid/045.jpeg  \n",
            "  inflating: Covid19-dataset/train/Covid/046.jpeg  \n",
            "  inflating: Covid19-dataset/train/Covid/047.jpeg  \n",
            "  inflating: Covid19-dataset/train/Covid/048.jpeg  \n",
            "  inflating: Covid19-dataset/train/Covid/049.jpeg  \n",
            "  inflating: Covid19-dataset/train/Covid/050.jpeg  \n",
            "  inflating: Covid19-dataset/train/Covid/051.jpeg  \n",
            "  inflating: Covid19-dataset/train/Covid/052.jpeg  \n",
            "  inflating: Covid19-dataset/train/Covid/053.jpeg  \n",
            "  inflating: Covid19-dataset/train/Covid/054.jpeg  \n",
            "  inflating: Covid19-dataset/train/Covid/055.jpeg  \n",
            "  inflating: Covid19-dataset/train/Covid/056.jpg  \n",
            "  inflating: Covid19-dataset/train/Covid/057.jpeg  \n",
            "  inflating: Covid19-dataset/train/Covid/058.jpeg  \n",
            "  inflating: Covid19-dataset/train/Covid/059.jpeg  \n",
            "  inflating: Covid19-dataset/train/Covid/06.jpeg  \n",
            "  inflating: Covid19-dataset/train/Covid/060.jpeg  \n",
            "  inflating: Covid19-dataset/train/Covid/061.jpg  \n",
            "  inflating: Covid19-dataset/train/Covid/062.jpeg  \n",
            "  inflating: Covid19-dataset/train/Covid/064.jpg  \n",
            "  inflating: Covid19-dataset/train/Covid/065.jpeg  \n",
            "  inflating: Covid19-dataset/train/Covid/067.jpg  \n",
            "  inflating: Covid19-dataset/train/Covid/068.jpg  \n",
            "  inflating: Covid19-dataset/train/Covid/069.jpg  \n",
            "  inflating: Covid19-dataset/train/Covid/07.jpg  \n",
            "  inflating: Covid19-dataset/train/Covid/071.jpg  \n",
            "  inflating: Covid19-dataset/train/Covid/072.jpeg  \n",
            "  inflating: Covid19-dataset/train/Covid/073.jpg  \n",
            "  inflating: Covid19-dataset/train/Covid/074.jpg  \n",
            "  inflating: Covid19-dataset/train/Covid/076.jpg  \n",
            "  inflating: Covid19-dataset/train/Covid/078.jpeg  \n",
            "  inflating: Covid19-dataset/train/Covid/079.jpeg  \n",
            "  inflating: Covid19-dataset/train/Covid/08.jpeg  \n",
            "  inflating: Covid19-dataset/train/Covid/080.jpg  \n",
            "  inflating: Covid19-dataset/train/Covid/081.jpeg  \n",
            "  inflating: Covid19-dataset/train/Covid/082.jpg  \n",
            "  inflating: Covid19-dataset/train/Covid/083.jpeg  \n",
            "  inflating: Covid19-dataset/train/Covid/084.jpeg  \n",
            "  inflating: Covid19-dataset/train/Covid/085.jpeg  \n",
            "  inflating: Covid19-dataset/train/Covid/086.jpg  \n",
            "  inflating: Covid19-dataset/train/Covid/088.jpeg  \n",
            "  inflating: Covid19-dataset/train/Covid/089.jpg  \n",
            "  inflating: Covid19-dataset/train/Covid/09.png  \n",
            "  inflating: Covid19-dataset/train/Covid/090.jpeg  \n",
            "  inflating: Covid19-dataset/train/Covid/091.jpg  \n",
            "  inflating: Covid19-dataset/train/Covid/092.png  \n",
            "  inflating: Covid19-dataset/train/Covid/COVID-00001.jpg  \n",
            "  inflating: Covid19-dataset/train/Covid/COVID-00002.jpg  \n",
            "  inflating: Covid19-dataset/train/Covid/COVID-00003a.jpg  \n",
            "  inflating: Covid19-dataset/train/Covid/COVID-00003b.jpg  \n",
            "  inflating: Covid19-dataset/train/Covid/COVID-00004.jpg  \n",
            "  inflating: Covid19-dataset/train/Covid/COVID-00005.jpg  \n",
            "  inflating: Covid19-dataset/train/Covid/COVID-00006.jpg  \n",
            "  inflating: Covid19-dataset/train/Covid/COVID-00007.jpg  \n",
            "  inflating: Covid19-dataset/train/Covid/COVID-00008.jpg  \n",
            "  inflating: Covid19-dataset/train/Covid/COVID-00009.jpg  \n",
            "  inflating: Covid19-dataset/train/Covid/COVID-00010.jpg  \n",
            "  inflating: Covid19-dataset/train/Covid/COVID-00011.jpg  \n",
            "  inflating: Covid19-dataset/train/Covid/COVID-00012.jpg  \n",
            "  inflating: Covid19-dataset/train/Covid/COVID-00013a.jpg  \n",
            "  inflating: Covid19-dataset/train/Covid/COVID-00013b.jpg  \n",
            "  inflating: Covid19-dataset/train/Covid/COVID-00014.jpg  \n",
            "  inflating: Covid19-dataset/train/Covid/COVID-00015a.png  \n",
            "  inflating: Covid19-dataset/train/Covid/COVID-00015b.png  \n",
            "  inflating: Covid19-dataset/train/Covid/COVID-00016.jpg  \n",
            "  inflating: Covid19-dataset/train/Covid/COVID-00017.jpg  \n",
            "  inflating: Covid19-dataset/train/Covid/COVID-00018.jpg  \n",
            "  inflating: Covid19-dataset/train/Covid/COVID-00019.jpg  \n",
            "  inflating: Covid19-dataset/train/Covid/COVID-00020.jpg  \n",
            "  inflating: Covid19-dataset/train/Covid/COVID-00021.jpg  \n",
            "  inflating: Covid19-dataset/train/Covid/COVID-00022.jpg  \n",
            "  inflating: Covid19-dataset/train/Covid/COVID-00023.jpg  \n",
            "  inflating: Covid19-dataset/train/Covid/COVID-00024.jpg  \n",
            "  inflating: Covid19-dataset/train/Covid/COVID-00025.jpg  \n",
            "  inflating: Covid19-dataset/train/Covid/COVID-00026.jpg  \n",
            "  inflating: Covid19-dataset/train/Covid/COVID-00027.jpg  \n",
            "  inflating: Covid19-dataset/train/Covid/COVID-00028.jpg  \n",
            "  inflating: Covid19-dataset/train/Covid/COVID-00029.jpg  \n",
            "  inflating: Covid19-dataset/train/Covid/COVID-00030.jpg  \n",
            "  inflating: Covid19-dataset/train/Covid/COVID-00031.jpg  \n",
            "  inflating: Covid19-dataset/train/Covid/COVID-00032.jpg  \n",
            "  inflating: Covid19-dataset/train/Covid/COVID-00033.jpg  \n",
            "  inflating: Covid19-dataset/train/Covid/COVID-00034.jpg  \n",
            "  inflating: Covid19-dataset/train/Covid/COVID-00035.jpg  \n",
            "  inflating: Covid19-dataset/train/Covid/COVID-00036.jpg  \n",
            "  inflating: Covid19-dataset/train/Covid/COVID-00037.jpg  \n",
            "  inflating: Covid19-dataset/train/Covid/COVID-00038.jpg  \n",
            "   creating: Covid19-dataset/train/Normal/\n",
            "  inflating: Covid19-dataset/train/Normal/01.jpeg  \n",
            "  inflating: Covid19-dataset/train/Normal/010.jpeg  \n",
            "  inflating: Covid19-dataset/train/Normal/011.jpeg  \n",
            "  inflating: Covid19-dataset/train/Normal/012.jpeg  \n",
            "  inflating: Covid19-dataset/train/Normal/013.jpeg  \n",
            "  inflating: Covid19-dataset/train/Normal/014.jpeg  \n",
            "  inflating: Covid19-dataset/train/Normal/015.jpeg  \n",
            "  inflating: Covid19-dataset/train/Normal/016.jpeg  \n",
            "  inflating: Covid19-dataset/train/Normal/017.jpeg  \n",
            "  inflating: Covid19-dataset/train/Normal/018.jpeg  \n",
            "  inflating: Covid19-dataset/train/Normal/019.jpeg  \n",
            "  inflating: Covid19-dataset/train/Normal/02.jpeg  \n",
            "  inflating: Covid19-dataset/train/Normal/020.jpeg  \n",
            "  inflating: Covid19-dataset/train/Normal/021.jpeg  \n",
            "  inflating: Covid19-dataset/train/Normal/022.jpeg  \n",
            "  inflating: Covid19-dataset/train/Normal/023.jpeg  \n",
            "  inflating: Covid19-dataset/train/Normal/024.jpeg  \n",
            "  inflating: Covid19-dataset/train/Normal/025.jpeg  \n",
            "  inflating: Covid19-dataset/train/Normal/03.jpeg  \n",
            "  inflating: Covid19-dataset/train/Normal/04.jpeg  \n",
            "  inflating: Covid19-dataset/train/Normal/05.jpeg  \n",
            "  inflating: Covid19-dataset/train/Normal/050.jpeg  \n",
            "  inflating: Covid19-dataset/train/Normal/051.jpeg  \n",
            "  inflating: Covid19-dataset/train/Normal/052.jpeg  \n",
            "  inflating: Covid19-dataset/train/Normal/053.jpeg  \n",
            "  inflating: Covid19-dataset/train/Normal/054.jpeg  \n",
            "  inflating: Covid19-dataset/train/Normal/055.jpeg  \n",
            "  inflating: Covid19-dataset/train/Normal/056.jpeg  \n",
            "  inflating: Covid19-dataset/train/Normal/057.jpeg  \n",
            "  inflating: Covid19-dataset/train/Normal/058.jpeg  \n",
            "  inflating: Covid19-dataset/train/Normal/059.jpeg  \n",
            "  inflating: Covid19-dataset/train/Normal/06.jpeg  \n",
            "  inflating: Covid19-dataset/train/Normal/060.jpeg  \n",
            "  inflating: Covid19-dataset/train/Normal/061.jpeg  \n",
            "  inflating: Covid19-dataset/train/Normal/062.jpeg  \n",
            "  inflating: Covid19-dataset/train/Normal/063.jpeg  \n",
            "  inflating: Covid19-dataset/train/Normal/064.jpeg  \n",
            "  inflating: Covid19-dataset/train/Normal/065.jpeg  \n",
            "  inflating: Covid19-dataset/train/Normal/066.jpeg  \n",
            "  inflating: Covid19-dataset/train/Normal/067.jpeg  \n",
            "  inflating: Covid19-dataset/train/Normal/068.jpeg  \n",
            "  inflating: Covid19-dataset/train/Normal/069.jpeg  \n",
            "  inflating: Covid19-dataset/train/Normal/07.jpeg  \n",
            "  inflating: Covid19-dataset/train/Normal/070.jpeg  \n",
            "  inflating: Covid19-dataset/train/Normal/071.jpeg  \n",
            "  inflating: Covid19-dataset/train/Normal/072.jpeg  \n",
            "  inflating: Covid19-dataset/train/Normal/073.jpeg  \n",
            "  inflating: Covid19-dataset/train/Normal/074.jpeg  \n",
            "  inflating: Covid19-dataset/train/Normal/075.jpeg  \n",
            "  inflating: Covid19-dataset/train/Normal/076.jpeg  \n",
            "  inflating: Covid19-dataset/train/Normal/077.jpeg  \n",
            "  inflating: Covid19-dataset/train/Normal/079.jpeg  \n",
            "  inflating: Covid19-dataset/train/Normal/08.jpeg  \n",
            "  inflating: Covid19-dataset/train/Normal/080.jpeg  \n",
            "  inflating: Covid19-dataset/train/Normal/081.jpeg  \n",
            "  inflating: Covid19-dataset/train/Normal/082.jpeg  \n",
            "  inflating: Covid19-dataset/train/Normal/083.jpeg  \n",
            "  inflating: Covid19-dataset/train/Normal/084.jpeg  \n",
            "  inflating: Covid19-dataset/train/Normal/085.jpeg  \n",
            "  inflating: Covid19-dataset/train/Normal/086.jpeg  \n",
            "  inflating: Covid19-dataset/train/Normal/087.jpeg  \n",
            "  inflating: Covid19-dataset/train/Normal/088.jpeg  \n",
            "  inflating: Covid19-dataset/train/Normal/09.jpeg  \n",
            "  inflating: Covid19-dataset/train/Normal/091.jpeg  \n",
            "  inflating: Covid19-dataset/train/Normal/092.jpeg  \n",
            "  inflating: Covid19-dataset/train/Normal/093.jpeg  \n",
            "  inflating: Covid19-dataset/train/Normal/094.jpeg  \n",
            "  inflating: Covid19-dataset/train/Normal/095.jpeg  \n",
            "  inflating: Covid19-dataset/train/Normal/096.jpeg  \n",
            "  inflating: Covid19-dataset/train/Normal/097.jpeg  \n",
            "   creating: Covid19-dataset/train/Viral Pneumonia/\n",
            "  inflating: Covid19-dataset/train/Viral Pneumonia/01.jpeg  \n",
            "  inflating: Covid19-dataset/train/Viral Pneumonia/010.jpeg  \n",
            "  inflating: Covid19-dataset/train/Viral Pneumonia/011.jpeg  \n",
            "  inflating: Covid19-dataset/train/Viral Pneumonia/012.jpeg  \n",
            "  inflating: Covid19-dataset/train/Viral Pneumonia/013.jpeg  \n",
            "  inflating: Covid19-dataset/train/Viral Pneumonia/016.jpeg  \n",
            "  inflating: Covid19-dataset/train/Viral Pneumonia/018.jpeg  \n",
            "  inflating: Covid19-dataset/train/Viral Pneumonia/019.jpeg  \n",
            "  inflating: Covid19-dataset/train/Viral Pneumonia/02.jpeg  \n",
            "  inflating: Covid19-dataset/train/Viral Pneumonia/020.jpeg  \n",
            "  inflating: Covid19-dataset/train/Viral Pneumonia/021.jpeg  \n",
            "  inflating: Covid19-dataset/train/Viral Pneumonia/022.jpeg  \n",
            "  inflating: Covid19-dataset/train/Viral Pneumonia/023.jpeg  \n",
            "  inflating: Covid19-dataset/train/Viral Pneumonia/024.jpeg  \n",
            "  inflating: Covid19-dataset/train/Viral Pneumonia/025.jpeg  \n",
            "  inflating: Covid19-dataset/train/Viral Pneumonia/027.jpeg  \n",
            "  inflating: Covid19-dataset/train/Viral Pneumonia/03.jpeg  \n",
            "  inflating: Covid19-dataset/train/Viral Pneumonia/031.jpeg  \n",
            "  inflating: Covid19-dataset/train/Viral Pneumonia/032.jpeg  \n",
            "  inflating: Covid19-dataset/train/Viral Pneumonia/033.jpeg  \n",
            "  inflating: Covid19-dataset/train/Viral Pneumonia/034.jpeg  \n",
            "  inflating: Covid19-dataset/train/Viral Pneumonia/035.jpeg  \n",
            "  inflating: Covid19-dataset/train/Viral Pneumonia/036.jpeg  \n",
            "  inflating: Covid19-dataset/train/Viral Pneumonia/037.jpeg  \n",
            "  inflating: Covid19-dataset/train/Viral Pneumonia/038.jpeg  \n",
            "  inflating: Covid19-dataset/train/Viral Pneumonia/04.jpeg  \n",
            "  inflating: Covid19-dataset/train/Viral Pneumonia/041.jpeg  \n",
            "  inflating: Covid19-dataset/train/Viral Pneumonia/042.jpeg  \n",
            "  inflating: Covid19-dataset/train/Viral Pneumonia/043.jpeg  \n",
            "  inflating: Covid19-dataset/train/Viral Pneumonia/044.jpeg  \n",
            "  inflating: Covid19-dataset/train/Viral Pneumonia/045.jpeg  \n",
            "  inflating: Covid19-dataset/train/Viral Pneumonia/046.jpeg  \n",
            "  inflating: Covid19-dataset/train/Viral Pneumonia/047.jpeg  \n",
            "  inflating: Covid19-dataset/train/Viral Pneumonia/048.jpeg  \n",
            "  inflating: Covid19-dataset/train/Viral Pneumonia/05.jpeg  \n",
            "  inflating: Covid19-dataset/train/Viral Pneumonia/051.jpeg  \n",
            "  inflating: Covid19-dataset/train/Viral Pneumonia/052.jpeg  \n",
            "  inflating: Covid19-dataset/train/Viral Pneumonia/053.jpeg  \n",
            "  inflating: Covid19-dataset/train/Viral Pneumonia/054.jpeg  \n",
            "  inflating: Covid19-dataset/train/Viral Pneumonia/055.jpeg  \n",
            "  inflating: Covid19-dataset/train/Viral Pneumonia/056.jpeg  \n",
            "  inflating: Covid19-dataset/train/Viral Pneumonia/057.jpeg  \n",
            "  inflating: Covid19-dataset/train/Viral Pneumonia/058.jpeg  \n",
            "  inflating: Covid19-dataset/train/Viral Pneumonia/06.jpeg  \n",
            "  inflating: Covid19-dataset/train/Viral Pneumonia/061.jpeg  \n",
            "  inflating: Covid19-dataset/train/Viral Pneumonia/062.jpeg  \n",
            "  inflating: Covid19-dataset/train/Viral Pneumonia/063.jpeg  \n",
            "  inflating: Covid19-dataset/train/Viral Pneumonia/064.jpeg  \n",
            "  inflating: Covid19-dataset/train/Viral Pneumonia/065.jpeg  \n",
            "  inflating: Covid19-dataset/train/Viral Pneumonia/066.jpeg  \n",
            "  inflating: Covid19-dataset/train/Viral Pneumonia/067.jpeg  \n",
            "  inflating: Covid19-dataset/train/Viral Pneumonia/068.jpeg  \n",
            "  inflating: Covid19-dataset/train/Viral Pneumonia/07.jpeg  \n",
            "  inflating: Covid19-dataset/train/Viral Pneumonia/071.jpeg  \n",
            "  inflating: Covid19-dataset/train/Viral Pneumonia/072.jpeg  \n",
            "  inflating: Covid19-dataset/train/Viral Pneumonia/073.jpeg  \n",
            "  inflating: Covid19-dataset/train/Viral Pneumonia/074.jpeg  \n",
            "  inflating: Covid19-dataset/train/Viral Pneumonia/075.jpeg  \n",
            "  inflating: Covid19-dataset/train/Viral Pneumonia/076.jpeg  \n",
            "  inflating: Covid19-dataset/train/Viral Pneumonia/077.jpeg  \n",
            "  inflating: Covid19-dataset/train/Viral Pneumonia/078.jpeg  \n",
            "  inflating: Covid19-dataset/train/Viral Pneumonia/08.jpeg  \n",
            "  inflating: Covid19-dataset/train/Viral Pneumonia/081.jpeg  \n",
            "  inflating: Covid19-dataset/train/Viral Pneumonia/082.jpeg  \n",
            "  inflating: Covid19-dataset/train/Viral Pneumonia/083.jpeg  \n",
            "  inflating: Covid19-dataset/train/Viral Pneumonia/084.jpeg  \n",
            "  inflating: Covid19-dataset/train/Viral Pneumonia/09.jpeg  \n",
            "  inflating: Covid19-dataset/train/Viral Pneumonia/094.jpeg  \n",
            "  inflating: Covid19-dataset/train/Viral Pneumonia/095.jpeg  \n",
            "  inflating: Covid19-dataset/train/Viral Pneumonia/096.jpeg  \n"
          ]
        }
      ]
    },
    {
      "cell_type": "code",
      "source": [
        "!pip install -q keras.preprocessing"
      ],
      "metadata": {
        "colab": {
          "base_uri": "https://localhost:8080/"
        },
        "id": "nQflEcB6_Z5p",
        "outputId": "479d26ba-d3ba-4ade-8cd7-abd71273ef97"
      },
      "execution_count": 22,
      "outputs": [
        {
          "output_type": "stream",
          "name": "stdout",
          "text": [
            "\u001b[?25l     \u001b[90m━━━━━━━━━━━━━━━━━━━━━━━━━━━━━━━━━━━━━━━━\u001b[0m \u001b[32m0.0/42.6 kB\u001b[0m \u001b[31m?\u001b[0m eta \u001b[36m-:--:--\u001b[0m\r\u001b[2K     \u001b[90m━━━━━━━━━━━━━━━━━━━━━━━━━━━━━━━━━━━━━━━━\u001b[0m \u001b[32m42.6/42.6 kB\u001b[0m \u001b[31m4.3 MB/s\u001b[0m eta \u001b[36m0:00:00\u001b[0m\n",
            "\u001b[?25h"
          ]
        }
      ]
    }
  ]
}